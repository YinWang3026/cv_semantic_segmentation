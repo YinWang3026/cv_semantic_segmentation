{
  "nbformat": 4,
  "nbformat_minor": 0,
  "metadata": {
    "language_info": {
      "name": "python"
    },
    "orig_nbformat": 4,
    "colab": {
      "name": "semantic_seg.ipynb",
      "provenance": []
    }
  },
  "cells": [
    {
      "cell_type": "code",
      "metadata": {
        "id": "OBzzWBcsajxj"
      },
      "source": [
        "Semantic Segmentation on Solar Photovoltaic Array"
      ],
      "execution_count": null,
      "outputs": []
    },
    {
      "cell_type": "code",
      "metadata": {
        "id": "oD7_KfQhapO-"
      },
      "source": [
        "Changes from collab, delete me later"
      ],
      "execution_count": null,
      "outputs": []
    }
  ]
}